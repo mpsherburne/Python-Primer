{
 "cells": [
  {
   "cell_type": "markdown",
   "metadata": {},
   "source": [
    "# Lesson 4: For loops"
   ]
  },
  {
   "cell_type": "markdown",
   "metadata": {},
   "source": [
    "A for loop can be used to repeat actions over a set of values."
   ]
  },
  {
   "cell_type": "code",
   "execution_count": 1,
   "metadata": {},
   "outputs": [
    {
     "name": "stdout",
     "output_type": "stream",
     "text": [
      "J\n",
      "i\n",
      "m\n",
      "m\n",
      "y\n",
      "J\n",
      "i\n",
      "m\n",
      "m\n",
      "y\n"
     ]
    }
   ],
   "source": [
    "name = ['J', 'i', 'm', 'm', 'y']\n",
    "\n",
    "for letter in name:\n",
    "    print(letter)\n",
    "\n",
    "name = 'Jimmy'\n",
    "\n",
    "for letter in name:\n",
    "    print(letter)"
   ]
  },
  {
   "cell_type": "markdown",
   "metadata": {},
   "source": [
    "For loops are constructed via the syntax for LOOP_VARIABLE in ITERABLE.  The loop variable in the above example I've used is `letter` and the iterable I've used is the string `name`, which was defined as `'Jimmy'`.  Other iterables include lists and dictionary keys, which we'll discuss later.  You can construct an iterable corresponding to a set of numbers beginning at 0 and ending at a certain number by using the built-in range function:"
   ]
  },
  {
   "cell_type": "code",
   "execution_count": 2,
   "metadata": {},
   "outputs": [
    {
     "name": "stdout",
     "output_type": "stream",
     "text": [
      "0\n",
      "1\n",
      "2\n",
      "3\n",
      "4\n",
      "5\n"
     ]
    }
   ],
   "source": [
    "for number in range(6):\n",
    "    print(number)"
   ]
  },
  {
   "cell_type": "code",
   "execution_count": 3,
   "metadata": {},
   "outputs": [
    {
     "name": "stdout",
     "output_type": "stream",
     "text": [
      "2 is even\n",
      "4 is even\n",
      "6 is even\n",
      "8 is even\n"
     ]
    }
   ],
   "source": [
    "for number in range(2, 10):\n",
    "    if number % 2 == 0:\n",
    "        print(number, \"is even\")"
   ]
  },
  {
   "cell_type": "code",
   "execution_count": 4,
   "metadata": {},
   "outputs": [
    {
     "name": "stdout",
     "output_type": "stream",
     "text": [
      "Sum of numbers from 0 to 5 is 15\n"
     ]
    }
   ],
   "source": [
    "my_sum = 0\n",
    "\n",
    "for number in range(6):\n",
    "    my_sum += number\n",
    "print(\"Sum of numbers from 0 to 5 is\", my_sum)"
   ]
  },
  {
   "cell_type": "code",
   "execution_count": 5,
   "metadata": {},
   "outputs": [
    {
     "name": "stdout",
     "output_type": "stream",
     "text": [
      "Letter 0 - J\n",
      "Letter 1 - i\n",
      "Letter 2 - m\n",
      "Letter 3 - m\n",
      "Letter 4 - y\n"
     ]
    }
   ],
   "source": [
    "for n, letter in enumerate(name):\n",
    "    print(\"Letter\", n, \"-\", letter)"
   ]
  },
  {
   "cell_type": "markdown",
   "metadata": {},
   "source": [
    "Iterables have a length, and you can find this length using the len function."
   ]
  },
  {
   "cell_type": "code",
   "execution_count": 6,
   "metadata": {},
   "outputs": [
    {
     "name": "stdout",
     "output_type": "stream",
     "text": [
      "Length of Jimmy is 5\n"
     ]
    }
   ],
   "source": [
    "print(\"Length of\", name, \"is\", len(name))"
   ]
  },
  {
   "cell_type": "code",
   "execution_count": 7,
   "metadata": {},
   "outputs": [
    {
     "name": "stdout",
     "output_type": "stream",
     "text": [
      "J H\n",
      "i e\n",
      "m a\n",
      "m t\n",
      "y h\n"
     ]
    }
   ],
   "source": [
    "for letter1, letter2 in zip(\"Jimmy\", \"Heath\"):\n",
    "    print(letter1, letter2)"
   ]
  },
  {
   "cell_type": "markdown",
   "metadata": {},
   "source": [
    "### Exercise: write a for loop that computes the sum of all of the squares from 2 to 11."
   ]
  },
  {
   "cell_type": "code",
   "execution_count": 8,
   "metadata": {},
   "outputs": [
    {
     "name": "stdout",
     "output_type": "stream",
     "text": [
      "505\n"
     ]
    }
   ],
   "source": [
    "s = 0\n",
    "for i in range(10):\n",
    "    s += pow(i + 2, 2)\n",
    "print(s)"
   ]
  },
  {
   "cell_type": "markdown",
   "metadata": {},
   "source": [
    "### Exercise (optional): Write a Python program to construct the following pattern, using a nested for loop.\n",
    "\n",
    "<dd>* </dd>\n",
    "<dd>* * </dd>\n",
    "<dd>* * * </dd>\n",
    "<dd>* * * * </dd>\n",
    "<dd>* * * * * </dd>\n",
    "<dd>* * * * </dd>\n",
    "<dd>* * * </dd>\n",
    "<dd>* * </dd>\n",
    "<dd>* </dd>"
   ]
  },
  {
   "cell_type": "code",
   "execution_count": 9,
   "metadata": {},
   "outputs": [
    {
     "name": "stdout",
     "output_type": "stream",
     "text": [
      "\n",
      "* \n",
      "* * \n",
      "* * * \n",
      "* * * * \n",
      "* * * * * \n",
      "* * * * \n",
      "* * * \n",
      "* * \n",
      "* \n"
     ]
    }
   ],
   "source": [
    "n=5;\n",
    "for i in range(n):\n",
    "    for j in range(i):\n",
    "        print ('* ', end=\"\")\n",
    "    print('')\n",
    "\n",
    "for i in range(n,0,-1):\n",
    "    for j in range(i):\n",
    "        print('* ', end=\"\")\n",
    "    print('')"
   ]
  }
 ],
 "metadata": {
  "kernelspec": {
   "display_name": "Python 3",
   "language": "python",
   "name": "python3"
  },
  "language_info": {
   "codemirror_mode": {
    "name": "ipython",
    "version": 3
   },
   "file_extension": ".py",
   "mimetype": "text/x-python",
   "name": "python",
   "nbconvert_exporter": "python",
   "pygments_lexer": "ipython3",
   "version": "3.6.7"
  }
 },
 "nbformat": 4,
 "nbformat_minor": 2
}
