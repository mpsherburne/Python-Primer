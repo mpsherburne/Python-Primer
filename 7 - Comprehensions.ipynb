{
 "cells": [
  {
   "cell_type": "markdown",
   "metadata": {},
   "source": [
    "# Lesson 7: Comprehensions\n",
    "**Teaching**: 10min<br>\n",
    "**Exercises**: 10min"
   ]
  },
  {
   "cell_type": "markdown",
   "metadata": {},
   "source": [
    "## List comprehensions"
   ]
  },
  {
   "cell_type": "markdown",
   "metadata": {},
   "source": [
    "List comprehensions (in addition to set and dictionary comprehensions) are neat little constructs that will considerably reduce the number of lines of code you need to perform small acts of collecting/aggregating data.\n",
    "\n",
    "Here's an example that constructs a list of squares:"
   ]
  },
  {
   "cell_type": "code",
   "execution_count": 1,
   "metadata": {},
   "outputs": [
    {
     "name": "stdout",
     "output_type": "stream",
     "text": [
      "[0, 1, 4, 9, 16]\n"
     ]
    }
   ],
   "source": [
    "z = [i**2 for i in range(5)]\n",
    "print(z)"
   ]
  },
  {
   "cell_type": "markdown",
   "metadata": {},
   "source": [
    "You can also add in conditionals, like requiring only even numbers:"
   ]
  },
  {
   "cell_type": "code",
   "execution_count": 2,
   "metadata": {},
   "outputs": [
    {
     "name": "stdout",
     "output_type": "stream",
     "text": [
      "[0, 4, 16, 36, 64]\n"
     ]
    }
   ],
   "source": [
    "z = [i**2 for i in range(10) if i % 2 == 0]\n",
    "print(z)"
   ]
  },
  {
   "cell_type": "markdown",
   "metadata": {},
   "source": [
    "The general form is\n",
    "\n",
    "    [ expression for var in collection if conditional ]"
   ]
  },
  {
   "cell_type": "markdown",
   "metadata": {},
   "source": [
    "Let's start with some simple file parsing and get the lengths of words in the standard Unix `words` file:"
   ]
  },
  {
   "cell_type": "code",
   "execution_count": 3,
   "metadata": {},
   "outputs": [
    {
     "name": "stdout",
     "output_type": "stream",
     "text": [
      "there are 235886 words in the file\n",
      "the maximum word length is 24\n"
     ]
    }
   ],
   "source": [
    "from mp_workshop.data import words\n",
    "\n",
    "words = [word.strip() for word in words]\n",
    "counts = [len(word) for word in words]\n",
    "print('there are', len(counts), 'words in the file')\n",
    "print('the maximum word length is', max(counts))"
   ]
  },
  {
   "cell_type": "markdown",
   "metadata": {},
   "source": [
    "Now, let's do some simple math, and calculate the average and standard deviation of the word counts (note: this is for illustrative purposes. `numpy` has efficient built-in functions for calculating statistics of collections of numbers):"
   ]
  },
  {
   "cell_type": "code",
   "execution_count": 4,
   "metadata": {},
   "outputs": [
    {
     "name": "stdout",
     "output_type": "stream",
     "text": [
      "9.569126612007494 +/- 2.927336978822631\n"
     ]
    }
   ],
   "source": [
    "import math\n",
    "\n",
    "average = sum(counts) / len(counts)\n",
    "variance = sum([(x - average)**2 for x in counts]) / len(counts)\n",
    "stddev = math.sqrt(variance)\n",
    "print(average, '+/-', stddev)"
   ]
  },
  {
   "cell_type": "markdown",
   "metadata": {},
   "source": [
    "Finally, let's add in a conditional. Let's get a count of words that are longer than ten letters and that end in 'y':"
   ]
  },
  {
   "cell_type": "code",
   "execution_count": 5,
   "metadata": {},
   "outputs": [
    {
     "name": "stdout",
     "output_type": "stream",
     "text": [
      "12446 words are longer than ten letters and end in \"y\"\n"
     ]
    }
   ],
   "source": [
    "# Small enough set of data, so can load all at once and keep in memory.\n",
    "special_count = len([w for w in words\n",
    "                     if len(w) > 10 and w.endswith('y')])\n",
    "print(special_count,\n",
    "      'words are longer than ten letters and end in \"y\"')"
   ]
  },
  {
   "cell_type": "markdown",
   "metadata": {},
   "source": [
    "This type of construction is more compact and often more readable than something like:"
   ]
  },
  {
   "cell_type": "code",
   "execution_count": 6,
   "metadata": {},
   "outputs": [
    {
     "name": "stdout",
     "output_type": "stream",
     "text": [
      "12446\n"
     ]
    }
   ],
   "source": [
    "count = 0\n",
    "for w in words:\n",
    "    if len(w) > 10 and w.endswith('y'):\n",
    "        count = count + 1\n",
    "print(count)"
   ]
  },
  {
   "cell_type": "markdown",
   "metadata": {},
   "source": [
    "## Set and dictionary comprehensions"
   ]
  },
  {
   "cell_type": "markdown",
   "metadata": {},
   "source": [
    "Set and dictionary comprehensions allow us to quickly collect unique keys and associated values from a collection.\n",
    "\n"
   ]
  },
  {
   "cell_type": "code",
   "execution_count": 7,
   "metadata": {},
   "outputs": [
    {
     "name": "stdout",
     "output_type": "stream",
     "text": [
      "{'chemsys': 'Ca-Ge-Mo-O',\n",
      " 'elements': ['Ca', 'Ge', 'Mo', 'O'],\n",
      " 'pretty_formula': 'Ca3Ge3(MoO6)2',\n",
      " 'spacegroup': {'crystal_system': 'cubic', 'number': 230}}\n"
     ]
    }
   ],
   "source": [
    "from pprint import pprint\n",
    "from mp_workshop.data import crystals\n",
    "\n",
    "pprint(crystals[0])"
   ]
  },
  {
   "cell_type": "markdown",
   "metadata": {},
   "source": [
    "Let's use a set comprehension to find the unique values of 'spacegroup.crystal_system' among the crystals:"
   ]
  },
  {
   "cell_type": "code",
   "execution_count": 8,
   "metadata": {},
   "outputs": [
    {
     "name": "stdout",
     "output_type": "stream",
     "text": [
      "{'tetragonal', 'orthorhombic', 'cubic', 'hexagonal', 'trigonal', 'triclinic', 'monoclinic'}\n"
     ]
    }
   ],
   "source": [
    "crystal_systems = {c['spacegroup']['crystal_system'] for c in crystals}\n",
    "print(crystal_systems)"
   ]
  },
  {
   "cell_type": "markdown",
   "metadata": {},
   "source": [
    "Let's say we want to re-organize our collection of crystal data to facilitate efficient lookup by (formula, crystal_system). A dictionary comprehension can do this succinctly:"
   ]
  },
  {
   "cell_type": "code",
   "execution_count": 9,
   "metadata": {},
   "outputs": [
    {
     "name": "stdout",
     "output_type": "stream",
     "text": [
      "{'spacegroup': {'number': 225, 'crystal_system': 'cubic'}, 'elements': ['Ag'], 'chemsys': 'Ag', 'pretty_formula': 'Ag'}\n"
     ]
    }
   ],
   "source": [
    "crystals_new = {(c['pretty_formula'], c['spacegroup']['crystal_system']): c\n",
    "                for c in crystals}\n",
    "print(crystals_new[('Ag', 'cubic')])"
   ]
  },
  {
   "cell_type": "code",
   "execution_count": 10,
   "metadata": {},
   "outputs": [
    {
     "name": "stdout",
     "output_type": "stream",
     "text": [
      "Is there an entry for cubic Au? True\n"
     ]
    }
   ],
   "source": [
    "print('Is there an entry for cubic Au?', ('Au', 'cubic') in crystals_new)"
   ]
  },
  {
   "cell_type": "markdown",
   "metadata": {},
   "source": [
    "## Exercise: Comprehend alkali metal halide crystals"
   ]
  },
  {
   "cell_type": "markdown",
   "metadata": {},
   "source": [
    "The `pymatgen` materials analysis library provides an *enumeration* of chemical elements via `Element`. `Element` is iterable, yielding one chemical element at a time, where the object representing each element has some useful properties. For example:"
   ]
  },
  {
   "cell_type": "code",
   "execution_count": 11,
   "metadata": {
    "scrolled": true
   },
   "outputs": [
    {
     "name": "stdout",
     "output_type": "stream",
     "text": [
      "[Element F, Element Cl, Element Br, Element I, Element At]\n"
     ]
    }
   ],
   "source": [
    "from pymatgen import Element\n",
    "\n",
    "halogens = []\n",
    "for e in Element:\n",
    "    if e.is_halogen:\n",
    "        halogens.append(e)\n",
    "print(halogens)"
   ]
  },
  {
   "cell_type": "markdown",
   "metadata": {},
   "source": [
    "In this exercise, read over the following code to understand what it does, and then see if you can refactor it (along with th above code!) to be more succinct using list comprehensions."
   ]
  },
  {
   "cell_type": "code",
   "execution_count": 12,
   "metadata": {},
   "outputs": [
    {
     "name": "stdout",
     "output_type": "stream",
     "text": [
      "['RbI', 'KBr', 'KI', 'RbI3', 'KF3', 'KF', 'NaBr', 'RbF2', 'CsI4', 'KF2', 'LiBr', 'LiCl', 'NaI', 'CsI3', 'CsF', 'LiF', 'RbCl', 'CsI', 'LiI', 'RbBr', 'NaCl', 'KCl', 'CsBr3', 'CsBr', 'CsCl', 'RbF', 'NaF', 'RbF3']\n"
     ]
    }
   ],
   "source": [
    "# %load ../code/halide_crystals.py\n",
    "from pymatgen import Element\n",
    "\n",
    "halogens = []\n",
    "for e in Element:\n",
    "    if e.is_halogen:\n",
    "        halogens.append(e)\n",
    "\n",
    "halide_systems = []\n",
    "for h in halogens:\n",
    "    alkali_metals = []\n",
    "    for e in Element:\n",
    "        if e.is_alkali:\n",
    "            alkali_metals.append(e)\n",
    "    for m in alkali_metals:\n",
    "        chemsys = \"-\".join(sorted([h.symbol, m.symbol]))\n",
    "        halide_systems.append(chemsys)\n",
    "\n",
    "halide_crystals = []\n",
    "for c in crystals:\n",
    "    if c['chemsys'] in halide_systems:\n",
    "        halide_crystals.append(c)\n",
    "\n",
    "formulae = []\n",
    "for c in halide_crystals:\n",
    "    formulae.append(c['pretty_formula'])\n",
    "\n",
    "print(formulae)"
   ]
  },
  {
   "cell_type": "markdown",
   "metadata": {},
   "source": [
    "Note for the adventurous: you can nest `for` headers in a comprehension, e.g.\n",
    "\n",
    "    [expression\n",
    "     for var1 in collection1\n",
    "     for var2 in collection2\n",
    "     if conditional]\n",
    "\n",
    "is equivalent to\n",
    "\n",
    "```python\n",
    "for var1 in collection1:\n",
    "    for var2 in collection2:\n",
    "        if conditional:\n",
    "            expression\n",
    "```"
   ]
  }
 ],
 "metadata": {
  "kernelspec": {
   "display_name": "Python 3",
   "language": "python",
   "name": "python3"
  },
  "language_info": {
   "codemirror_mode": {
    "name": "ipython",
    "version": 3
   },
   "file_extension": ".py",
   "mimetype": "text/x-python",
   "name": "python",
   "nbconvert_exporter": "python",
   "pygments_lexer": "ipython3",
   "version": "3.6.7"
  }
 },
 "nbformat": 4,
 "nbformat_minor": 2
}
