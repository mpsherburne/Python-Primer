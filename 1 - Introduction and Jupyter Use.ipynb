{
 "cells": [
  {
   "cell_type": "markdown",
   "metadata": {},
   "source": [
    "# Lesson 1: Introduction to Python and Using Jupyter notebooks"
   ]
  },
  {
   "cell_type": "markdown",
   "metadata": {},
   "source": [
    "The Jupyter notebook is a platform for using and writing code in a dynamic way that allows users to combine cells of code snippets that are executed with a persistent namespace and kernel alongside markdown text for facilitating readability and visualization.\n",
    "\n",
    "In this notebook, we cover some basics of Jupyter functionality along with a discussion of some details of how you can use python in this environment and elsewhere."
   ]
  },
  {
   "cell_type": "markdown",
   "metadata": {},
   "source": [
    "## Installation\n",
    "\n",
    "For this workshop, we've constructed an online environment for everyone to use in order to smooth out any platform-dependent installation issues, but you'll probably want to install the tools we use today locally on your own machine.  To do this, we recommend [Anaconda](https://docs.continuum.io/anaconda/install), which is an effective tool for python package management that can create virtual environments, comes with a pre-installed IDE, and includes all of the Jupyter functionality that you'll see here.  The Anaconda installer should be detailed on the page linked above, but here's [another resource](https://swcarpentry.github.io/python-novice-gapminder/setup/) for installation that might be helpful."
   ]
  },
  {
   "cell_type": "markdown",
   "metadata": {},
   "source": [
    "## Code vs. Markdown\n",
    "\n",
    "Jupyter notebooks are broken down into \"cells\" which might contain either code or markdown.  If you select a cell with your mouse, it should be highlighted with a green border indicating that you are in \"edit,\" mode and can edit the contents of the cell.  If text reading `In [ ]:` is on the left hand side of the cell, it's a \"code\" cell.  For example, type the following and press \"Shift + Enter\""
   ]
  },
  {
   "cell_type": "code",
   "execution_count": 1,
   "metadata": {},
   "outputs": [
    {
     "name": "stdout",
     "output_type": "stream",
     "text": [
      "Hello world!\n"
     ]
    }
   ],
   "source": [
    "print(\"Hello world!\")"
   ]
  },
  {
   "cell_type": "markdown",
   "metadata": {},
   "source": [
    "Pressing \"Shift + Enter\" executes the code in the cell, prints the output below the cell, and creates a new cell below that one.  In addition to code cells, you can also write your own markdown cells by converting a cell using either the dropdown menu in the toolbar or pressing \"Esc + m\".  In general, pressing escape enters \"command mode\" for which you can issue a number of commands, including\n",
    "\n",
    "* f - find and replace\n",
    "* m - convert to markdown\n",
    "* y - convert to code\n",
    "* h - open the help menu\n",
    "\n",
    "Right now, trying typing \"Esc + h\" to open the help/shortcut menu and peruse it.  Spend a minute testing out some of the shortcuts."
   ]
  },
  {
   "cell_type": "markdown",
   "metadata": {},
   "source": [
    "Note that markdown cells are quite flexible and can basically do anything wikipedia does, including adding $\\LaTeX$-formatted equations.\n",
    "\n",
    "$\\hat{H}\\psi = E \\psi$"
   ]
  },
  {
   "cell_type": "markdown",
   "metadata": {},
   "source": [
    "## Shell commands, magic, and where to learn more\n",
    "\n",
    "Jupyter notebooks can also issue commands to the shell, which can be achieved using the `!` symbol at the beginning of the cell:"
   ]
  },
  {
   "cell_type": "code",
   "execution_count": 2,
   "metadata": {},
   "outputs": [
    {
     "name": "stdout",
     "output_type": "stream",
     "text": [
      "1 - Introduction and Jupyter Use.ipynb\r\n",
      "2 - Variables and built-in functions.ipynb\r\n",
      "3 - Lists.ipynb\r\n",
      "4 - For loops.ipynb\r\n",
      "5 - Conditionals.ipynb\r\n",
      "6 - Sets and dictionaries.ipynb\r\n",
      "7 - Comprehensions.ipynb\r\n",
      "8 - Writing Functions.ipynb\r\n",
      "C_mp-48.cif\r\n",
      "\u001b[34mcode\u001b[m\u001b[m\r\n"
     ]
    }
   ],
   "source": [
    "!ls ."
   ]
  },
  {
   "cell_type": "code",
   "execution_count": 3,
   "metadata": {},
   "outputs": [
    {
     "name": "stdout",
     "output_type": "stream",
     "text": [
      "Wed Jul 24 17:28:14 PDT 2019\r\n"
     ]
    }
   ],
   "source": [
    "!date"
   ]
  },
  {
   "cell_type": "markdown",
   "metadata": {},
   "source": [
    "In addition, certain things can be achieved in Jupyter notebooks using what are called \"magic\" commands, which are demarcated using the `%` sign.  The most common of these are the magic function to enable inline plotting:"
   ]
  },
  {
   "cell_type": "code",
   "execution_count": 4,
   "metadata": {},
   "outputs": [],
   "source": [
    "%matplotlib inline"
   ]
  },
  {
   "cell_type": "markdown",
   "metadata": {},
   "source": [
    "and to invoke the debugger in a particular cell on an error:"
   ]
  },
  {
   "cell_type": "code",
   "execution_count": 5,
   "metadata": {},
   "outputs": [
    {
     "name": "stdout",
     "output_type": "stream",
     "text": [
      "Automatic pdb calling has been turned ON\n"
     ]
    }
   ],
   "source": [
    "%pdb"
   ]
  },
  {
   "cell_type": "markdown",
   "metadata": {},
   "source": [
    "These functions set up special functionality in the notebook."
   ]
  },
  {
   "cell_type": "markdown",
   "metadata": {},
   "source": [
    "Lastly, note that Jupyter notebooks are becoming increasingly popular as tools to supplement publication.  As a computational researcher, you can provide explicit documentation of your methods with embedded code that actually works for a person who wants to understand better what you're working on.  In my own work, I've begun making all my plots and collecting all of my data in Jupyter notebooks to provide as supporting info for each of my recent papers.  It's a bit more work, but you'll find that having this level of organization and being this transparent about your methods goes a long way.\n",
    "\n",
    "There are great resources for IPython notebooks online, and here are a few of them:\n",
    "\n",
    "* [Jupyter website](http://jupyter.org/)\n",
    "* [A gallery of interesting notebooks](https://github.com/jupyter/jupyter/wiki/A-gallery-of-interesting-Jupyter-Notebooks)\n"
   ]
  }
 ],
 "metadata": {
  "kernelspec": {
   "display_name": "Python 3",
   "language": "python",
   "name": "python3"
  },
  "language_info": {
   "codemirror_mode": {
    "name": "ipython",
    "version": 3
   },
   "file_extension": ".py",
   "mimetype": "text/x-python",
   "name": "python",
   "nbconvert_exporter": "python",
   "pygments_lexer": "ipython3",
   "version": "3.6.7"
  }
 },
 "nbformat": 4,
 "nbformat_minor": 2
}
