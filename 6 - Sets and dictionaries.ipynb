{
 "cells": [
  {
   "cell_type": "markdown",
   "metadata": {},
   "source": [
    "# Lesson 6: Sets and Dictionaries\n",
    "**Teaching**: 15min<br>\n",
    "**Exercises**: 5min"
   ]
  },
  {
   "cell_type": "markdown",
   "metadata": {},
   "source": [
    "## Use a set to store unique values\n",
    "* Create with `{...}`\n",
    "* But must use `set()` to create an empty set"
   ]
  },
  {
   "cell_type": "code",
   "execution_count": 1,
   "metadata": {},
   "outputs": [
    {
     "name": "stdout",
     "output_type": "stream",
     "text": [
      "is 3 prime? True\n",
      "is 9 prime? False\n"
     ]
    }
   ],
   "source": [
    "primes = {2, 3, 5, 7}\n",
    "print('is 3 prime?', 3 in primes)\n",
    "print('is 9 prime?', 9 in primes)"
   ]
  },
  {
   "cell_type": "markdown",
   "metadata": {},
   "source": [
    "* Intersection, union, etc."
   ]
  },
  {
   "cell_type": "code",
   "execution_count": 2,
   "metadata": {},
   "outputs": [
    {
     "name": "stdout",
     "output_type": "stream",
     "text": [
      "intersection {3, 5, 7}\n",
      "union {2, 3, 5, 7, 9}\n"
     ]
    }
   ],
   "source": [
    "odds = {3, 5, 7, 9}\n",
    "print('intersection', odds & primes)\n",
    "print('union', odds | primes)"
   ]
  },
  {
   "cell_type": "markdown",
   "metadata": {},
   "source": [
    "## Sets are mutable\n",
    "* But only store *unique* values"
   ]
  },
  {
   "cell_type": "code",
   "execution_count": 3,
   "metadata": {},
   "outputs": [
    {
     "name": "stdout",
     "output_type": "stream",
     "text": [
      "primes becomes {2, 3, 5, 7, 11}\n",
      "after removal {2, 3, 5, 11}\n",
      "after adding 11 again {2, 3, 5, 11}\n"
     ]
    }
   ],
   "source": [
    "primes.add(11)\n",
    "print('primes becomes', primes)\n",
    "primes.discard(7)\n",
    "print('after removal', primes)\n",
    "primes.add(11)\n",
    "print('after adding 11 again', primes)"
   ]
  },
  {
   "cell_type": "markdown",
   "metadata": {},
   "source": [
    "## Sets are unordered\n",
    "* Values are stored by *hashing*, which is intentionally as random as possible"
   ]
  },
  {
   "cell_type": "code",
   "execution_count": 4,
   "metadata": {},
   "outputs": [
    {
     "name": "stdout",
     "output_type": "stream",
     "text": [
      "Cori\n",
      "Kohn\n",
      "Hopper\n"
     ]
    }
   ],
   "source": [
    "names = {'Hopper', 'Cori', 'Kohn'}\n",
    "for n in names:\n",
    "    print(n)"
   ]
  },
  {
   "cell_type": "markdown",
   "metadata": {},
   "source": [
    "## Use a dictionary to store key/value pairs\n",
    "Equivalently, store extra information with elements of a set."
   ]
  },
  {
   "cell_type": "code",
   "execution_count": 5,
   "metadata": {},
   "outputs": [
    {
     "name": "stdout",
     "output_type": "stream",
     "text": [
      "1906\n",
      "{'Hopper': 1906, 'Cori': 1896, 'Kohn': 1923}\n"
     ]
    }
   ],
   "source": [
    "birthdays = {'Hopper': 1906, 'Cori': 1896}\n",
    "print(birthdays['Hopper'])\n",
    "birthdays['Kohn'] = 1823 # oops\n",
    "birthdays['Kohn'] = 1923 # that's better\n",
    "print(birthdays)"
   ]
  },
  {
   "cell_type": "markdown",
   "metadata": {},
   "source": [
    "* Just an accident that keys are in order of when entered.\n",
    "* Like sets, dictionaries store keys by hashing, which is as random as possible"
   ]
  },
  {
   "cell_type": "markdown",
   "metadata": {},
   "source": [
    "## Set values and dictionary keys must be immutable\n",
    "* Changing them after insertion would leave data in the wrong place\n",
    "* Use a `tuple` for multi-valued keys"
   ]
  },
  {
   "cell_type": "code",
   "execution_count": 6,
   "metadata": {},
   "outputs": [],
   "source": [
    "people = {('Grace', 'Hopper'): 1906, ('Gerty', 'Cory'): 1896, ('Walter', 'Kohn'): 1923}"
   ]
  },
  {
   "cell_type": "markdown",
   "metadata": {},
   "source": [
    "You can *destructure* a tuple in the heading of a for loop:"
   ]
  },
  {
   "cell_type": "code",
   "execution_count": 7,
   "metadata": {},
   "outputs": [
    {
     "name": "stdout",
     "output_type": "stream",
     "text": [
      "Grace was born in 1906\n",
      "Gerty was born in 1896\n",
      "Walter was born in 1923\n"
     ]
    }
   ],
   "source": [
    "for (first, last) in people:\n",
    "    print(first,'was born in', people[(first, last)])"
   ]
  },
  {
   "cell_type": "markdown",
   "metadata": {},
   "source": [
    "## Example: create a histogram"
   ]
  },
  {
   "cell_type": "code",
   "execution_count": 8,
   "metadata": {},
   "outputs": [
    {
     "name": "stdout",
     "output_type": "stream",
     "text": [
      "{1: 5, 0: 4, 2: 3, 3: 1}\n"
     ]
    }
   ],
   "source": [
    "numbers = [1, 0, 1, 2, 0, 0, 1, 2, 1, 3, 1, 0, 2]\n",
    "count = {}\n",
    "for n in numbers:\n",
    "    if n not in count:\n",
    "        count[n] = 1\n",
    "    else:\n",
    "        count[n] = count[n] + 1\n",
    "print(count)"
   ]
  },
  {
   "cell_type": "markdown",
   "metadata": {},
   "source": [
    "Reminder: there are lots of useful Python libraries, especially the \"standard library\" that comes with Python:"
   ]
  },
  {
   "cell_type": "code",
   "execution_count": 9,
   "metadata": {},
   "outputs": [
    {
     "name": "stdout",
     "output_type": "stream",
     "text": [
      "Counter({1: 5, 0: 4, 2: 3, 3: 1})\n",
      "{1: 5, 0: 4, 2: 3, 3: 1}\n"
     ]
    }
   ],
   "source": [
    "from collections import Counter\n",
    "\n",
    "print(Counter(numbers))\n",
    "print(dict(Counter(numbers)))"
   ]
  },
  {
   "cell_type": "markdown",
   "metadata": {},
   "source": [
    "## Keys are often strings"
   ]
  },
  {
   "cell_type": "code",
   "execution_count": 10,
   "metadata": {},
   "outputs": [
    {
     "name": "stdout",
     "output_type": "stream",
     "text": [
      "atomic number of lithium: 3\n"
     ]
    }
   ],
   "source": [
    "atomic_numbers = {'H' : 1, 'He' : 2, 'Li' : 3, 'Be' : 4, 'B' : 5}\n",
    "print('atomic number of lithium:', atomic_numbers['Li'])"
   ]
  },
  {
   "cell_type": "code",
   "execution_count": 11,
   "metadata": {},
   "outputs": [
    {
     "name": "stdout",
     "output_type": "stream",
     "text": [
      "atomic number of H is 1\n",
      "atomic number of C is 6\n",
      "atomic number of O is 8\n"
     ]
    }
   ],
   "source": [
    "from mp_workshop.data import atomic_numbers\n",
    "\n",
    "for element in ('H', 'C', 'O'):\n",
    "    print('atomic number of', element, 'is', atomic_numbers[element])"
   ]
  },
  {
   "cell_type": "markdown",
   "metadata": {},
   "source": [
    "You can iterate over the keys of a dictionary:"
   ]
  },
  {
   "cell_type": "code",
   "execution_count": 12,
   "metadata": {},
   "outputs": [
    {
     "name": "stdout",
     "output_type": "stream",
     "text": [
      "H\n",
      "He\n",
      "Li\n",
      "Be\n",
      "B\n"
     ]
    }
   ],
   "source": [
    "# Use a counter so we don't print out so much.\n",
    "n = 0\n",
    "for element in atomic_numbers:\n",
    "    if n < 5:\n",
    "        print(element)\n",
    "    n = n + 1"
   ]
  },
  {
   "cell_type": "markdown",
   "metadata": {},
   "source": [
    "You can also iterate over (key, value) tuples of a dictionary using the `items` method:"
   ]
  },
  {
   "cell_type": "code",
   "execution_count": 13,
   "metadata": {},
   "outputs": [
    {
     "name": "stdout",
     "output_type": "stream",
     "text": [
      "H 1\n",
      "He 2\n",
      "Li 3\n",
      "Be 4\n",
      "B 5\n"
     ]
    }
   ],
   "source": [
    "n = 0\n",
    "for (element, atomic_number) in atomic_numbers.items():\n",
    "    if n < 5:\n",
    "        print(element, atomic_number)\n",
    "    n = n + 1"
   ]
  },
  {
   "cell_type": "markdown",
   "metadata": {},
   "source": [
    "## Exercise: How heavy is this molecule?\n",
    "You are given two things:\n",
    "\n",
    "1. a dictionary mapping atomic symbols to atomic weights (`mp_workshop.data.atomic_weights`), and\n",
    "2. a list of (atomic_symbol, count) pairs for a molecule.\n",
    "\n",
    "```python\n",
    "# Example molecules:\n",
    "methane = [('C', 1), ('H', 4)]\n",
    "aminothiazole = [('C', 3), ('H', 4), ('N', 2), ('S', 1)]\n",
    "```\n",
    "\n",
    "Print that molecule's molecular weight.\n"
   ]
  },
  {
   "cell_type": "code",
   "execution_count": 14,
   "metadata": {},
   "outputs": [],
   "source": [
    "from mp_workshop.data import atomic_weights\n",
    "\n",
    "# atomic weight is 16.0423\n",
    "methane = [('C', 1), ('H', 4)]\n",
    "# atomic weight is 100.1421\n",
    "aminothiazole = [('C', 3), ('H', 4), ('N', 2), ('S', 1)]\n",
    "\n",
    "# 2. Pick a molecule to test\n",
    "molecule = methane\n",
    "\n",
    "# 3. Do stuff to calculate `mol_weight`\n",
    "\n",
    "# ...\n",
    "\n",
    "#print(mol_weight)\n"
   ]
  }
 ],
 "metadata": {
  "kernelspec": {
   "display_name": "Python 3",
   "language": "python",
   "name": "python3"
  },
  "language_info": {
   "codemirror_mode": {
    "name": "ipython",
    "version": 3
   },
   "file_extension": ".py",
   "mimetype": "text/x-python",
   "name": "python",
   "nbconvert_exporter": "python",
   "pygments_lexer": "ipython3",
   "version": "3.6.7"
  }
 },
 "nbformat": 4,
 "nbformat_minor": 2
}
